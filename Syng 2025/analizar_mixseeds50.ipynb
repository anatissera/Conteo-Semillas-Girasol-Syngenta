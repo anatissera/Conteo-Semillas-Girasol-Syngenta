{
 "cells": [
  {
   "cell_type": "code",
   "execution_count": 17,
   "metadata": {},
   "outputs": [
    {
     "name": "stdout",
     "output_type": "stream",
     "text": [
      "Nombres extraídos:\n",
      "1002 P1\n",
      "1002 P2\n",
      "1002 P3\n",
      "1003 P1\n",
      "1003 P3\n",
      "1008 P1\n",
      "1008 P2\n",
      "1008 P3\n",
      "1010 P1\n",
      "1015 P1\n",
      "1015 P2\n",
      "1015 P3\n",
      "1016 P2\n",
      "1017 P2\n",
      "1017 P3\n",
      "1019 P3\n",
      "1020 P2\n",
      "1021 P3\n",
      "1022 P1\n",
      "1022 P2\n",
      "1022 P3\n",
      "1025 P1\n",
      "1025 P2\n",
      "1025 P3\n",
      "1027 P1\n",
      "2001 P3\n",
      "2020 P1\n",
      "2020 P2\n",
      "2020 P3\n",
      "2022 P1\n",
      "2022 P2\n",
      "2023 P3\n",
      "2024 P1\n",
      "2024 P3\n",
      "2028 P1\n",
      "2028 P2\n",
      "3002 P3\n",
      "3004 P3\n",
      "3005 P1\n",
      "3005 P3\n",
      "3007 P3\n",
      "3009 P2\n",
      "3009 P3\n",
      "3011 P1\n",
      "3011 P2\n",
      "3011 P3\n",
      "3014 P2\n",
      "3018 P3\n",
      "3020 P3\n",
      "3021 P3\n"
     ]
    }
   ],
   "source": [
    "import os\n",
    "\n",
    "# Ruta de la carpeta que contiene las imágenes\n",
    "carpeta = \"data_50\"\n",
    "\n",
    "# Lista para guardar los nombres extraídos\n",
    "nombres_extraidos = []\n",
    "\n",
    "# Iterar sobre los archivos en la carpeta\n",
    "for archivo in os.listdir(carpeta):\n",
    "    if archivo.endswith(\".jpg\") or archivo.endswith(\".png\"):  # Cambia las extensiones según sea necesario\n",
    "        # Extraer la parte antes del primer \"_\"\n",
    "        parte_interes = archivo.split(\"_\")[0]\n",
    "        # Insertar un espacio entre los números y la letra, si es necesario\n",
    "        nombre = ''.join([parte_interes[:4], \" \", parte_interes[4:]])\n",
    "        nombres_extraidos.append(nombre)\n",
    "\n",
    "# Imprimir los resultados\n",
    "print(\"Nombres extraídos:\")\n",
    "for nombre in nombres_extraidos:\n",
    "    print(nombre)\n"
   ]
  },
  {
   "cell_type": "code",
   "execution_count": 18,
   "metadata": {},
   "outputs": [],
   "source": [
    "import pandas as pd"
   ]
  },
  {
   "cell_type": "code",
   "execution_count": 19,
   "metadata": {},
   "outputs": [
    {
     "name": "stdout",
     "output_type": "stream",
     "text": [
      "0     2024 P3\n",
      "1     2019 P1\n",
      "2     2019 P3\n",
      "3     2009 P3\n",
      "4     2016 P1\n",
      "5     2023 P3\n",
      "6     2016 P3\n",
      "7     2012 P3\n",
      "8     2011 P2\n",
      "9     2006 P1\n",
      "10    2006 P3\n",
      "11    2007 P2\n",
      "12    1027 P1\n",
      "13    1028 P1\n",
      "14    2008 P1\n",
      "15    1004 P2\n",
      "16    2003 P2\n",
      "17    1003 P2\n",
      "18    1002 P1\n",
      "19    2001 P3\n",
      "20    1025 P2\n",
      "21    2004 P1\n",
      "22    2024 A3\n",
      "23    2012 A3\n",
      "24    2011 A2\n",
      "25    1027 A1\n",
      "26    1004 A2\n",
      "27    1003 A2\n",
      "28    1002 A1\n",
      "29    2001 A3\n",
      "30    1025 A2\n",
      "Name: Numero de capitulo, dtype: object\n"
     ]
    }
   ],
   "source": [
    "conteo_semillas_path = \"conteo-semillas-pt3.csv\"\n",
    "df = pd.read_csv(conteo_semillas_path, sep=',', header=0)\n",
    "print(df[\"Numero de capitulo\"])"
   ]
  },
  {
   "cell_type": "code",
   "execution_count": 20,
   "metadata": {},
   "outputs": [
    {
     "name": "stdout",
     "output_type": "stream",
     "text": [
      "Nombres comunes encontrados:\n",
      "1025 P2\n",
      "1002 P1\n",
      "1027 P1\n",
      "2023 P3\n",
      "2001 P3\n",
      "2024 P3\n"
     ]
    }
   ],
   "source": [
    "# Ruta de los archivos de texto\n",
    "archivo1 = \"data_50.txt\"\n",
    "archivo2 = \"data_conteo.txt\"\n",
    "\n",
    "# Leer los nombres de los archivos\n",
    "with open(archivo1, \"r\") as f1:\n",
    "    nombres1 = {line.strip() for line in f1}  # Usamos un conjunto para evitar duplicados y facilitar la comparación\n",
    "\n",
    "with open(archivo2, \"r\") as f2:\n",
    "    nombres2 = {line.strip() for line in f2}\n",
    "\n",
    "# Encontrar los nombres comunes\n",
    "nombres_comunes = nombres1.intersection(nombres2)\n",
    "\n",
    "# Mostrar los resultados\n",
    "if nombres_comunes:\n",
    "    print(\"Nombres comunes encontrados:\")\n",
    "    for nombre in nombres_comunes:\n",
    "        print(nombre)\n",
    "else:\n",
    "    print(\"No se encontraron nombres comunes.\")\n"
   ]
  },
  {
   "cell_type": "code",
   "execution_count": null,
   "metadata": {},
   "outputs": [],
   "source": []
  }
 ],
 "metadata": {
  "kernelspec": {
   "display_name": "env_test",
   "language": "python",
   "name": "python3"
  },
  "language_info": {
   "codemirror_mode": {
    "name": "ipython",
    "version": 3
   },
   "file_extension": ".py",
   "mimetype": "text/x-python",
   "name": "python",
   "nbconvert_exporter": "python",
   "pygments_lexer": "ipython3",
   "version": "3.10.13"
  }
 },
 "nbformat": 4,
 "nbformat_minor": 2
}
